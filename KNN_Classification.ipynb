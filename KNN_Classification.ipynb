{
  "nbformat": 4,
  "nbformat_minor": 0,
  "metadata": {
    "colab": {
      "name": "KNN_Classification.ipynb",
      "provenance": []
    },
    "kernelspec": {
      "name": "python3",
      "display_name": "Python 3"
    },
    "language_info": {
      "name": "python"
    }
  },
  "cells": [
    {
      "cell_type": "markdown",
      "metadata": {
        "id": "nP5mBDCaPvra"
      },
      "source": [
        "## Algorithm:\n",
        "\n",
        "- Take test data and compute distances with all training samples.\n",
        "\n",
        "- Get k nearest samples, labels.\n",
        "\n",
        "- Majority vote, and get most common class label.\n",
        "\n",
        "- Classify the test data as belonging to that class label."
      ]
    },
    {
      "cell_type": "code",
      "metadata": {
        "id": "-wP578nzy-0R"
      },
      "source": [
        "import numpy as np\n",
        "from sklearn import datasets\n",
        "from collections import Counter\n",
        "from sklearn.model_selection import train_test_split"
      ],
      "execution_count": 1,
      "outputs": []
    },
    {
      "cell_type": "markdown",
      "metadata": {
        "id": "Q4IoBw_j2PzZ"
      },
      "source": [
        "## Dataset"
      ]
    },
    {
      "cell_type": "code",
      "metadata": {
        "id": "1mwe2L3N0Hzw"
      },
      "source": [
        "X, y = datasets.make_classification(n_samples=100, n_features=5, n_classes=3, n_clusters_per_class=2, random_state=4, n_informative=3)\n",
        "\n",
        "# obey this rule: (n_classes * n_clusters_per_class) ≤ (2 ^ n_informative)"
      ],
      "execution_count": 2,
      "outputs": []
    },
    {
      "cell_type": "code",
      "metadata": {
        "colab": {
          "base_uri": "https://localhost:8080/"
        },
        "id": "_hrOQTVx0N0R",
        "outputId": "376a7829-8dcf-4cbc-c082-316ff12ddced"
      },
      "source": [
        "X.shape, y.shape"
      ],
      "execution_count": 3,
      "outputs": [
        {
          "output_type": "execute_result",
          "data": {
            "text/plain": [
              "((100, 5), (100,))"
            ]
          },
          "metadata": {},
          "execution_count": 3
        }
      ]
    },
    {
      "cell_type": "code",
      "metadata": {
        "colab": {
          "base_uri": "https://localhost:8080/"
        },
        "id": "vclmCNt-U0xS",
        "outputId": "2c148e9b-0917-460b-c001-1820b3ca85ca"
      },
      "source": [
        "values, counts = np.unique(y, return_counts=True)\n",
        "values, counts"
      ],
      "execution_count": 4,
      "outputs": [
        {
          "output_type": "execute_result",
          "data": {
            "text/plain": [
              "(array([0, 1, 2]), array([34, 33, 33]))"
            ]
          },
          "metadata": {},
          "execution_count": 4
        }
      ]
    },
    {
      "cell_type": "code",
      "metadata": {
        "id": "F4TnPgQw0Ph2"
      },
      "source": [
        "X_train, X_test, y_train, y_test = train_test_split(X, y, test_size=0.2, random_state=10)"
      ],
      "execution_count": 5,
      "outputs": []
    },
    {
      "cell_type": "code",
      "metadata": {
        "colab": {
          "base_uri": "https://localhost:8080/"
        },
        "id": "7PK_fHbn16fe",
        "outputId": "1581609a-28bd-4b34-bb96-088206b7e4f9"
      },
      "source": [
        "X_train.shape, X_test.shape, y_train.shape, y_test.shape"
      ],
      "execution_count": 6,
      "outputs": [
        {
          "output_type": "execute_result",
          "data": {
            "text/plain": [
              "((80, 5), (20, 5), (80,), (20,))"
            ]
          },
          "metadata": {},
          "execution_count": 6
        }
      ]
    },
    {
      "cell_type": "code",
      "metadata": {
        "colab": {
          "base_uri": "https://localhost:8080/"
        },
        "id": "n3scdbBz196A",
        "outputId": "405d21bf-78e5-4ecc-84e0-72e8e6795813"
      },
      "source": [
        "X_train[:5]"
      ],
      "execution_count": 7,
      "outputs": [
        {
          "output_type": "execute_result",
          "data": {
            "text/plain": [
              "array([[ 1.23757935e-03,  1.98079863e+00,  1.86114132e+00,\n",
              "         1.04702962e+00,  4.72818528e-02],\n",
              "       [ 4.84125952e-01,  6.32836447e-01,  1.08093578e+00,\n",
              "         4.99436332e-02,  5.25206674e-01],\n",
              "       [-9.51878266e-01, -2.12417596e-01, -1.05877284e+00,\n",
              "         2.99262154e-01, -8.28961353e-01],\n",
              "       [-1.44725099e+00, -3.96387876e-01, -2.41069696e+00,\n",
              "         1.52793397e+00, -2.60911442e+00],\n",
              "       [ 9.67033364e-01, -9.42721751e-01, -1.14746518e+00,\n",
              "         8.07500273e-01, -1.27397308e+00]])"
            ]
          },
          "metadata": {},
          "execution_count": 7
        }
      ]
    },
    {
      "cell_type": "markdown",
      "metadata": {
        "id": "S-0cP-2bONeH"
      },
      "source": [
        "## Model Building"
      ]
    },
    {
      "cell_type": "code",
      "metadata": {
        "colab": {
          "base_uri": "https://localhost:8080/"
        },
        "id": "BQl-0e3ASmR2",
        "outputId": "26abc6f6-6763-4cb1-8f03-156edb00bd6f"
      },
      "source": [
        "# testing Counter\n",
        "\n",
        "test = [1,2,3,4,1,2,3,1,1]\n",
        "most_common = Counter(test).most_common(1)\n",
        "print(most_common)\n",
        "print(most_common[0][0])      # returns most common element"
      ],
      "execution_count": 8,
      "outputs": [
        {
          "output_type": "stream",
          "name": "stdout",
          "text": [
            "[(1, 4)]\n",
            "1\n"
          ]
        }
      ]
    },
    {
      "cell_type": "code",
      "metadata": {
        "id": "PGYjvRJnRJAy"
      },
      "source": [
        "def euclidean_distance(x1, x2):                         # global function\n",
        "    return np.sqrt(np.sum((x1-x2)**2))"
      ],
      "execution_count": 9,
      "outputs": []
    },
    {
      "cell_type": "code",
      "metadata": {
        "colab": {
          "base_uri": "https://localhost:8080/"
        },
        "id": "SO-SCiH7a1tX",
        "outputId": "93374870-9033-49af-aec0-a619aa63788f"
      },
      "source": [
        "# testing\n",
        "\n",
        "for x_train in X_train[:5]:\n",
        "  print(x_train)\n",
        "  print(euclidean_distance(X_test[0], x_train))\n",
        "  print()"
      ],
      "execution_count": 10,
      "outputs": [
        {
          "output_type": "stream",
          "name": "stdout",
          "text": [
            "[1.23757935e-03 1.98079863e+00 1.86114132e+00 1.04702962e+00\n",
            " 4.72818528e-02]\n",
            "2.203785741544138\n",
            "\n",
            "[0.48412595 0.63283645 1.08093578 0.04994363 0.52520667]\n",
            "1.8904622007419956\n",
            "\n",
            "[-0.95187827 -0.2124176  -1.05877284  0.29926215 -0.82896135]\n",
            "4.918474188336305\n",
            "\n",
            "[-1.44725099 -0.39638788 -2.41069696  1.52793397 -2.60911442]\n",
            "7.160108410413117\n",
            "\n",
            "[ 0.96703336 -0.94272175 -1.14746518  0.80750027 -1.27397308]\n",
            "5.02348221082457\n",
            "\n"
          ]
        }
      ]
    },
    {
      "cell_type": "code",
      "metadata": {
        "id": "uTNNU-yCOO2-"
      },
      "source": [
        "class KNN:\n",
        "    def __init__(self, k=3):\n",
        "        self.k = k\n",
        "\n",
        "    def fit(self, X, y):                                            # KNN doesn't have training step, so simply storing them\n",
        "        self.X_train = X\n",
        "        self.y_train = y\n",
        "\n",
        "    def predict(self, X):                                           # for bulk samples\n",
        "        y_pred = [self._predict(x) for x in X]                      # for each of the samples, get predicted value\n",
        "        return np.array(y_pred)                                     # converting y_pred list to array\n",
        "\n",
        "    def _predict(self, x):                                          # for one sample, finding distance of x to all other training samples from X\n",
        "        distances = [euclidean_distance(x, x_train) for x_train in self.X_train]\n",
        "        k_indices = np.argsort(distances)[:self.k]                  # sorting the distances and getting the indices of top k items\n",
        "        k_nearest_labels = [self.y_train[i] for i in k_indices]     # getting labels for those indices\n",
        "        most_common = Counter(k_nearest_labels).most_common(1)      # Counter will count all the labels, most_common will give label with highest count\n",
        "        return most_common[0][0]"
      ],
      "execution_count": 11,
      "outputs": []
    },
    {
      "cell_type": "code",
      "metadata": {
        "id": "97klGOO_T0qB"
      },
      "source": [
        "model = KNN(k=3)\n",
        "model.fit(X_train, y_train)                                       # used to train model and update w, b\n",
        "y_pred = model.predict(X_test)"
      ],
      "execution_count": 12,
      "outputs": []
    },
    {
      "cell_type": "markdown",
      "metadata": {
        "id": "8W0ZhKQm-2OO"
      },
      "source": [
        "## Evaluating test data"
      ]
    },
    {
      "cell_type": "code",
      "metadata": {
        "colab": {
          "base_uri": "https://localhost:8080/"
        },
        "id": "jMcR5ZzsYcDM",
        "outputId": "85c3dbd6-029c-4d9d-8153-84862bbfc38a"
      },
      "source": [
        "y_test"
      ],
      "execution_count": 13,
      "outputs": [
        {
          "output_type": "execute_result",
          "data": {
            "text/plain": [
              "array([1, 1, 2, 0, 0, 0, 1, 2, 2, 1, 1, 1, 0, 0, 0, 1, 1, 0, 2, 1])"
            ]
          },
          "metadata": {},
          "execution_count": 13
        }
      ]
    },
    {
      "cell_type": "code",
      "metadata": {
        "colab": {
          "base_uri": "https://localhost:8080/"
        },
        "id": "z_cgV7SuYa2W",
        "outputId": "f8d60e97-8f6d-4f11-ba22-c7d2aa702088"
      },
      "source": [
        "y_pred"
      ],
      "execution_count": 14,
      "outputs": [
        {
          "output_type": "execute_result",
          "data": {
            "text/plain": [
              "array([1, 1, 1, 2, 0, 0, 2, 2, 2, 1, 0, 0, 0, 1, 0, 1, 1, 0, 1, 1])"
            ]
          },
          "metadata": {},
          "execution_count": 14
        }
      ]
    },
    {
      "cell_type": "code",
      "metadata": {
        "id": "vpT2nuPN-CWU"
      },
      "source": [
        "def accuracy(y_true, y_pred):\n",
        "    accuracy = np.sum(y_test == y_pred) / len(y_test)\n",
        "    return accuracy"
      ],
      "execution_count": 15,
      "outputs": []
    },
    {
      "cell_type": "code",
      "metadata": {
        "colab": {
          "base_uri": "https://localhost:8080/"
        },
        "id": "XrxXv3y_UGfP",
        "outputId": "8b9a7099-f014-4620-9333-03eba623d8e6"
      },
      "source": [
        "acc = accuracy(y_test, y_pred)\n",
        "print(\"Accuracy:\", acc*100)"
      ],
      "execution_count": 16,
      "outputs": [
        {
          "output_type": "stream",
          "name": "stdout",
          "text": [
            "Accuracy: 65.0\n"
          ]
        }
      ]
    }
  ]
}