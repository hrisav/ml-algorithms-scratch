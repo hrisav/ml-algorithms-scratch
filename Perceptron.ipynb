{
  "nbformat": 4,
  "nbformat_minor": 0,
  "metadata": {
    "colab": {
      "name": "Perceptron.ipynb",
      "provenance": []
    },
    "kernelspec": {
      "name": "python3",
      "display_name": "Python 3"
    },
    "language_info": {
      "name": "python"
    }
  },
  "cells": [
    {
      "cell_type": "markdown",
      "metadata": {
        "id": "nP5mBDCaPvra"
      },
      "source": [
        "## Working:"
      ]
    },
    {
      "cell_type": "markdown",
      "metadata": {
        "id": "1Xrn84M1qY8K"
      },
      "source": [
        "Perceptron works with linearly separable classes."
      ]
    },
    {
      "cell_type": "markdown",
      "metadata": {
        "id": "xAHgYu3V6dB3"
      },
      "source": [
        "![](https://drive.google.com/uc?id=1fAjulMDWI7WvX_PPkk0yFqnXXYaqk5s0)"
      ]
    },
    {
      "cell_type": "markdown",
      "metadata": {
        "id": "2trmB2s36g30"
      },
      "source": [
        "![](https://drive.google.com/uc?id=1rjN7WB_n-L7Q357MdsQDSinBy-Ovjb1e)"
      ]
    },
    {
      "cell_type": "markdown",
      "metadata": {
        "id": "G_SfhPN56g8Z"
      },
      "source": [
        "![](https://drive.google.com/uc?id=1Orsm8qL1k2152ZWjLTRBAgRnFvuncEgO)"
      ]
    },
    {
      "cell_type": "markdown",
      "metadata": {
        "id": "JTIA_lg-6hBc"
      },
      "source": [
        "![](https://drive.google.com/uc?id=1jrOUlYykbPwpguJOL9z34fzuX0c_qysK)"
      ]
    },
    {
      "cell_type": "code",
      "metadata": {
        "id": "-wP578nzy-0R"
      },
      "source": [
        "import numpy as np\n",
        "from sklearn import datasets\n",
        "from sklearn.model_selection import train_test_split"
      ],
      "execution_count": 1,
      "outputs": []
    },
    {
      "cell_type": "markdown",
      "metadata": {
        "id": "Q4IoBw_j2PzZ"
      },
      "source": [
        "## Dataset"
      ]
    },
    {
      "cell_type": "code",
      "metadata": {
        "id": "1mwe2L3N0Hzw"
      },
      "source": [
        "X, y = datasets.make_blobs(n_samples=100, n_features=2, centers=2, cluster_std=1.05, random_state=4)"
      ],
      "execution_count": 2,
      "outputs": []
    },
    {
      "cell_type": "code",
      "metadata": {
        "colab": {
          "base_uri": "https://localhost:8080/"
        },
        "id": "_hrOQTVx0N0R",
        "outputId": "10c107f5-273e-4f8e-eb77-ac0d80702104"
      },
      "source": [
        "X.shape, y.shape"
      ],
      "execution_count": 3,
      "outputs": [
        {
          "output_type": "execute_result",
          "data": {
            "text/plain": [
              "((100, 2), (100,))"
            ]
          },
          "metadata": {},
          "execution_count": 3
        }
      ]
    },
    {
      "cell_type": "code",
      "metadata": {
        "colab": {
          "base_uri": "https://localhost:8080/"
        },
        "id": "vclmCNt-U0xS",
        "outputId": "9c12a5b1-b145-4b37-c08a-b03196cafa15"
      },
      "source": [
        "values, counts = np.unique(y, return_counts=True)\n",
        "values, counts"
      ],
      "execution_count": 4,
      "outputs": [
        {
          "output_type": "execute_result",
          "data": {
            "text/plain": [
              "(array([0, 1]), array([50, 50]))"
            ]
          },
          "metadata": {},
          "execution_count": 4
        }
      ]
    },
    {
      "cell_type": "code",
      "metadata": {
        "id": "F4TnPgQw0Ph2"
      },
      "source": [
        "X_train, X_test, y_train, y_test = train_test_split(X, y, test_size=0.2, random_state=10)"
      ],
      "execution_count": 5,
      "outputs": []
    },
    {
      "cell_type": "code",
      "metadata": {
        "colab": {
          "base_uri": "https://localhost:8080/"
        },
        "id": "7PK_fHbn16fe",
        "outputId": "4b3e4aaa-58a8-4098-8d7e-e1096be41215"
      },
      "source": [
        "X_train.shape, X_test.shape, y_train.shape, y_test.shape"
      ],
      "execution_count": 6,
      "outputs": [
        {
          "output_type": "execute_result",
          "data": {
            "text/plain": [
              "((80, 2), (20, 2), (80,), (20,))"
            ]
          },
          "metadata": {},
          "execution_count": 6
        }
      ]
    },
    {
      "cell_type": "code",
      "metadata": {
        "colab": {
          "base_uri": "https://localhost:8080/"
        },
        "id": "n3scdbBz196A",
        "outputId": "74209709-7041-4bd3-8f0f-11af8020569d"
      },
      "source": [
        "X_train[:5]"
      ],
      "execution_count": 7,
      "outputs": [
        {
          "output_type": "execute_result",
          "data": {
            "text/plain": [
              "array([[ 9.18887982,  2.9501329 ],\n",
              "       [ 9.77173434,  5.18922609],\n",
              "       [ 9.32830519,  3.19925498],\n",
              "       [11.15179047,  4.36769068],\n",
              "       [ 9.50698979,  3.03423215]])"
            ]
          },
          "metadata": {},
          "execution_count": 7
        }
      ]
    },
    {
      "cell_type": "code",
      "metadata": {
        "colab": {
          "base_uri": "https://localhost:8080/"
        },
        "id": "DrihWuMd2DpX",
        "outputId": "d972fcb2-7ee2-42d3-c2f8-96d8cc2befc1"
      },
      "source": [
        "y_train[:5]"
      ],
      "execution_count": 8,
      "outputs": [
        {
          "output_type": "execute_result",
          "data": {
            "text/plain": [
              "array([1, 1, 1, 1, 0])"
            ]
          },
          "metadata": {},
          "execution_count": 8
        }
      ]
    },
    {
      "cell_type": "markdown",
      "metadata": {
        "id": "KwI-WmK3-6mH"
      },
      "source": [
        "## Model building"
      ]
    },
    {
      "cell_type": "code",
      "metadata": {
        "id": "eXZfjoa767e_"
      },
      "source": [
        "# running on the concept of stochastic gradient descent\n",
        "# if the dataset contains 1000 rows, SGD will update the model parameters 1000 times in one epoch of dataset\n",
        "\n",
        "class Perceptron:\n",
        "    def __init__(self, learn_rate, n_iters):\n",
        "        self.weights = None\n",
        "        self.bias = None\n",
        "        self.learn_rate = learn_rate\n",
        "        self.n_iters = n_iters\n",
        "        self.activation_func = self.unit_step_func\n",
        "\n",
        "    def fit(self, X, y):\n",
        "        n_samples, n_features = X.shape\n",
        "        self.weights = np.zeros(n_features)                                     # initialising weights as 0 for all features\n",
        "        self.bias = 0                                                           # initialising with bias as 0\n",
        "\n",
        "        y_ = np.array([1 if i > 0 else 0 for i in y])                           # if y in dataset has labels +1 and -1 then convert to +1 and 0\n",
        "\n",
        "        for epoch in range(self.n_iters):                                       # for every iteration from 1 to 500\n",
        "            for idx, x_i in enumerate(X):                                       # iterate over each of the training sample -> gives index, current sample\n",
        "                linear_output = np.dot(x_i, self.weights) + self.bias           # apply linear func on each sample (x_i)\n",
        "                y_pred = self.activation_func(linear_output)                    # then apply activation func on linear func\n",
        "                update = self.learn_rate * (y_[idx] - y_pred)                   # finding update = α * (yi - ŷi)\n",
        "                self.weights += update * x_i                                    # w = w + △w => w = w + α * (yi - ŷi) * xi\n",
        "                self.bias += update                                             # b = b + α * (yi - ŷi)\n",
        "\n",
        "            if (epoch%50==0):                                                   # just print weights after some epochs\n",
        "                print(f'epoch {epoch+1}:')\n",
        "                print('Weights: ', self.weights)\n",
        "                print()\n",
        "\n",
        "    def predict(self, X):\n",
        "        linear_output = np.dot(X, self.weights) + self.bias                     # first apply linear func on multiple samples (X)\n",
        "        y_pred = self.activation_func(linear_output)                            # then apply activation func on linear func\n",
        "        return y_pred\n",
        "\n",
        "    def unit_step_func(self, x):                                                # will work for single/all test samples\n",
        "        threshold = 0\n",
        "        return np.where(x>=threshold, 1, 0)                                     # for single sample, return 1 if x>=threshold else 0"
      ],
      "execution_count": 9,
      "outputs": []
    },
    {
      "cell_type": "code",
      "metadata": {
        "colab": {
          "base_uri": "https://localhost:8080/"
        },
        "id": "HY0iLU3K8BhJ",
        "outputId": "e1506737-2d18-4f1b-bab8-27ccef8afdc9"
      },
      "source": [
        "model = Perceptron(learn_rate=0.01, n_iters=500)\n",
        "model.fit(X_train, y_train)                                                     # used to train model and update w, b\n",
        "y_pred = model.predict(X_test)"
      ],
      "execution_count": 10,
      "outputs": [
        {
          "output_type": "stream",
          "name": "stdout",
          "text": [
            "epoch 1:\n",
            "Weights:  [-0.01034709  0.1649765 ]\n",
            "\n",
            "epoch 51:\n",
            "Weights:  [-0.20771806  0.87432604]\n",
            "\n",
            "epoch 101:\n",
            "Weights:  [-0.11814988  0.95361183]\n",
            "\n",
            "epoch 151:\n",
            "Weights:  [-0.11219321  0.92291666]\n",
            "\n",
            "epoch 201:\n",
            "Weights:  [-0.08925888  0.91945327]\n",
            "\n",
            "epoch 251:\n",
            "Weights:  [-0.09237599  0.8775722 ]\n",
            "\n",
            "epoch 301:\n",
            "Weights:  [-0.08258337  0.87106325]\n",
            "\n",
            "epoch 351:\n",
            "Weights:  [-0.02551421  0.85879692]\n",
            "\n",
            "epoch 401:\n",
            "Weights:  [-0.00842926  0.83380159]\n",
            "\n",
            "epoch 451:\n",
            "Weights:  [0.02156197 0.81053726]\n",
            "\n"
          ]
        }
      ]
    },
    {
      "cell_type": "code",
      "metadata": {
        "colab": {
          "base_uri": "https://localhost:8080/"
        },
        "id": "lu2Od2V7Tzx4",
        "outputId": "91cf9a17-6176-4dfc-ec60-c85e8558649d"
      },
      "source": [
        "y_pred[:5]"
      ],
      "execution_count": 11,
      "outputs": [
        {
          "output_type": "execute_result",
          "data": {
            "text/plain": [
              "array([1, 1, 0, 1, 1])"
            ]
          },
          "metadata": {},
          "execution_count": 11
        }
      ]
    },
    {
      "cell_type": "code",
      "metadata": {
        "colab": {
          "base_uri": "https://localhost:8080/"
        },
        "id": "werXml0TUCtO",
        "outputId": "ad862b89-1397-45c2-f09b-f8b5378892dd"
      },
      "source": [
        "y_test[:5]"
      ],
      "execution_count": 12,
      "outputs": [
        {
          "output_type": "execute_result",
          "data": {
            "text/plain": [
              "array([0, 1, 0, 1, 1])"
            ]
          },
          "metadata": {},
          "execution_count": 12
        }
      ]
    },
    {
      "cell_type": "markdown",
      "metadata": {
        "id": "8W0ZhKQm-2OO"
      },
      "source": [
        "## Evaluating test data"
      ]
    },
    {
      "cell_type": "code",
      "metadata": {
        "id": "vpT2nuPN-CWU"
      },
      "source": [
        "def accuracy(y_true, y_pred):\n",
        "    accuracy = np.sum(y_test == y_pred) / len(y_test)\n",
        "    return accuracy"
      ],
      "execution_count": 13,
      "outputs": []
    },
    {
      "cell_type": "code",
      "metadata": {
        "colab": {
          "base_uri": "https://localhost:8080/"
        },
        "id": "XrxXv3y_UGfP",
        "outputId": "086b62dd-3e61-4637-eacb-ea299bcb22fa"
      },
      "source": [
        "acc = accuracy(y_test, y_pred)\n",
        "print(\"Accuracy:\", acc*100)"
      ],
      "execution_count": 14,
      "outputs": [
        {
          "output_type": "stream",
          "name": "stdout",
          "text": [
            "Accuracy: 95.0\n"
          ]
        }
      ]
    },
    {
      "cell_type": "markdown",
      "metadata": {
        "id": "m-rSD8WXquVa"
      },
      "source": [
        "## Visualization"
      ]
    },
    {
      "cell_type": "code",
      "metadata": {
        "id": "t686atCPqvps",
        "colab": {
          "base_uri": "https://localhost:8080/",
          "height": 264
        },
        "outputId": "d5bdf712-94c8-46a2-82bf-341e86e801c0"
      },
      "source": [
        "import matplotlib.pyplot as plt\n",
        "\n",
        "fig = plt.figure()\n",
        "ax = fig.add_subplot(1, 1, 1)\n",
        "plt.scatter(X_train[:, 0], X_train[:, 1], marker=\"o\", c=y_train)\n",
        "\n",
        "x0_1 = np.amin(X_train[:, 0])\n",
        "x0_2 = np.amax(X_train[:, 0])\n",
        "\n",
        "x1_1 = (-model.weights[0] * x0_1 - model.bias) / model.weights[1]\n",
        "x1_2 = (-model.weights[0] * x0_2 - model.bias) / model.weights[1]\n",
        "\n",
        "ax.plot([x0_1, x0_2], [x1_1, x1_2], \"k\")\n",
        "\n",
        "ymin = np.amin(X_train[:, 1])\n",
        "ymax = np.amax(X_train[:, 1])\n",
        "ax.set_ylim([ymin - 3, ymax + 3])\n",
        "\n",
        "plt.show()"
      ],
      "execution_count": 15,
      "outputs": [
        {
          "output_type": "display_data",
          "data": {
            "image/png": "[encoded data removed]",
            "text/plain": [
              "<Figure size 432x288 with 1 Axes>"
            ]
          },
          "metadata": {
            "needs_background": "light"
          }
        }
      ]
    }
  ]
}