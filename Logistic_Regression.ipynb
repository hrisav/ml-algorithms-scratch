{
  "nbformat": 4,
  "nbformat_minor": 0,
  "metadata": {
    "colab": {
      "name": "Logistic Regression.ipynb",
      "provenance": []
    },
    "kernelspec": {
      "name": "python3",
      "display_name": "Python 3"
    },
    "language_info": {
      "name": "python"
    }
  },
  "cells": [
    {
      "cell_type": "markdown",
      "metadata": {
        "id": "nP5mBDCaPvra"
      },
      "source": [
        "## Algorithm:\n",
        "\n",
        "- Take dataset and split into dependent and independent.\n",
        "\n",
        "- Initialize weights and bias to 0.\n",
        "\n",
        "- For each epoch, find ypred, ypred_prob, dw, db and update weight and bias.\n",
        "\n",
        "- Continue running epochs, until loss function becomes stagnant.\n",
        "\n",
        "- Predict values of test set and evaluate."
      ]
    },
    {
      "cell_type": "code",
      "metadata": {
        "id": "-wP578nzy-0R"
      },
      "source": [
        "import numpy as np\n",
        "from sklearn import datasets\n",
        "from sklearn.model_selection import train_test_split"
      ],
      "execution_count": 1,
      "outputs": []
    },
    {
      "cell_type": "markdown",
      "metadata": {
        "id": "Q4IoBw_j2PzZ"
      },
      "source": [
        "## Dataset"
      ]
    },
    {
      "cell_type": "code",
      "metadata": {
        "id": "1mwe2L3N0Hzw"
      },
      "source": [
        "X, y = datasets.make_classification(n_samples=100, n_features=10, n_classes=2, weights=[0.7,0.3], random_state=4)"
      ],
      "execution_count": 2,
      "outputs": []
    },
    {
      "cell_type": "code",
      "metadata": {
        "colab": {
          "base_uri": "https://localhost:8080/"
        },
        "id": "_hrOQTVx0N0R",
        "outputId": "6fb01fef-bbf5-4a47-cdb1-c18b10e4e04e"
      },
      "source": [
        "X.shape, y.shape"
      ],
      "execution_count": 3,
      "outputs": [
        {
          "output_type": "execute_result",
          "data": {
            "text/plain": [
              "((100, 10), (100,))"
            ]
          },
          "metadata": {
            "tags": []
          },
          "execution_count": 3
        }
      ]
    },
    {
      "cell_type": "code",
      "metadata": {
        "colab": {
          "base_uri": "https://localhost:8080/"
        },
        "id": "vclmCNt-U0xS",
        "outputId": "63993b35-4f71-45e7-8eba-4909e8c24688"
      },
      "source": [
        "values, counts = np.unique(y, return_counts=True)\n",
        "values, counts"
      ],
      "execution_count": 4,
      "outputs": [
        {
          "output_type": "execute_result",
          "data": {
            "text/plain": [
              "(array([0, 1]), array([70, 30]))"
            ]
          },
          "metadata": {
            "tags": []
          },
          "execution_count": 4
        }
      ]
    },
    {
      "cell_type": "code",
      "metadata": {
        "id": "F4TnPgQw0Ph2"
      },
      "source": [
        "X_train, X_test, y_train, y_test = train_test_split(X, y, test_size=0.2, random_state=10)"
      ],
      "execution_count": 5,
      "outputs": []
    },
    {
      "cell_type": "code",
      "metadata": {
        "colab": {
          "base_uri": "https://localhost:8080/"
        },
        "id": "7PK_fHbn16fe",
        "outputId": "6b5b74bd-e4d9-491d-f6f5-00941e6e09fe"
      },
      "source": [
        "X_train.shape, X_test.shape, y_train.shape, y_test.shape"
      ],
      "execution_count": 6,
      "outputs": [
        {
          "output_type": "execute_result",
          "data": {
            "text/plain": [
              "((80, 10), (20, 10), (80,), (20,))"
            ]
          },
          "metadata": {
            "tags": []
          },
          "execution_count": 6
        }
      ]
    },
    {
      "cell_type": "code",
      "metadata": {
        "colab": {
          "base_uri": "https://localhost:8080/"
        },
        "id": "n3scdbBz196A",
        "outputId": "e7c74d95-bf5f-4fff-8201-e779b0fac819"
      },
      "source": [
        "X_train[:5]"
      ],
      "execution_count": 7,
      "outputs": [
        {
          "output_type": "execute_result",
          "data": {
            "text/plain": [
              "array([[-0.09634524,  1.19336851, -0.26937493, -0.95039892,  0.65746416,\n",
              "         0.4428871 , -0.2803352 , -0.92380733, -0.66305001, -0.03396529],\n",
              "       [-0.34125599,  1.86956552, -1.59134194, -0.90872536,  0.05705716,\n",
              "         0.21709507,  0.09480537,  0.13451712, -0.7442297 , -0.42976675],\n",
              "       [ 1.9378714 ,  0.097539  , -2.81196642, -1.08207078,  1.34742912,\n",
              "         0.11661226,  0.36237351,  0.60883722, -0.08073961,  1.4001608 ],\n",
              "       [-1.28142125, -0.1357363 , -0.35808244,  0.26518023,  0.07072032,\n",
              "        -0.19060895,  0.19608096,  1.00555752, -0.96253904,  1.43731603],\n",
              "       [ 0.5337351 ,  0.10614917, -2.31842819, -0.94614727, -0.10993324,\n",
              "         0.1236747 ,  0.27868214,  0.07382213, -0.55337285,  0.96185333]])"
            ]
          },
          "metadata": {
            "tags": []
          },
          "execution_count": 7
        }
      ]
    },
    {
      "cell_type": "code",
      "metadata": {
        "colab": {
          "base_uri": "https://localhost:8080/"
        },
        "id": "DrihWuMd2DpX",
        "outputId": "9eacfae9-2e09-44e6-9259-911e439cadd6"
      },
      "source": [
        "y_train[:5]"
      ],
      "execution_count": 8,
      "outputs": [
        {
          "output_type": "execute_result",
          "data": {
            "text/plain": [
              "array([0, 0, 0, 0, 0])"
            ]
          },
          "metadata": {
            "tags": []
          },
          "execution_count": 8
        }
      ]
    },
    {
      "cell_type": "markdown",
      "metadata": {
        "id": "KwI-WmK3-6mH"
      },
      "source": [
        "## Model building"
      ]
    },
    {
      "cell_type": "code",
      "metadata": {
        "id": "XCHHc45a8TNo"
      },
      "source": [
        "class LogisticRegression:\n",
        "    def __init__(self, learn_rate, num_iters):\n",
        "        self.weights = None\n",
        "        self.bias = None\n",
        "        self.learn_rate = learn_rate\n",
        "        self.num_iters = num_iters\n",
        "    \n",
        "    def fit(self, X, y):                                                # for training the model\n",
        "        samples, features = X.shape\n",
        "        self.weights = np.zeros(features)                               # initialising weights as 0 for all features\n",
        "        self.bias = 0                                                   # initialising with bias as 0\n",
        "\n",
        "        for epoch in range(self.num_iters):\n",
        "            y_pred = np.dot(X, self.weights) + self.bias                # ypred = b + wX\n",
        "            y_pred_prob = 1 / (1+np.exp(-y_pred))                       # prob values = 1 / (1 + e^(-ypred))\n",
        "                                                                        # uses Binary Cross Entropy Loss\n",
        "            dw = (1 / samples) * 2 * np.dot(X.T, (y_pred_prob - y))     # dLoss/dw = 1/N * 2X(w*X+b - y)\n",
        "            db = (1 / samples) * 2 * np.sum(y_pred_prob - y)            # dLoss/db = 1/N * 2(w*X+b - y)\n",
        "            self.weights = self.weights - (self.learn_rate*dw)          # update weight\n",
        "            self.bias = self.bias - (self.learn_rate*db)                # update bias\n",
        "\n",
        "            if (epoch%50==0):                                           # just print loss and weights after some epochs\n",
        "              print(f'epoch {epoch+1}:')\n",
        "              print('Weights: ', self.weights)\n",
        "              print()\n",
        "\n",
        "    def predict(self, X):                                               # for prediction\n",
        "        y_pred = np.dot(X, self.weights) + self.bias\n",
        "        y_pred_prob = 1 / (1+np.exp(-y_pred))\n",
        "        y_pred_class = [1 if i > 0.5 else 0 for i in y_pred_prob]\n",
        "        return y_pred_class"
      ],
      "execution_count": 9,
      "outputs": []
    },
    {
      "cell_type": "markdown",
      "metadata": {
        "id": "obUPhcFwtu52"
      },
      "source": [
        "**Logic behind dot products**\n",
        "\n",
        "np.dot(X, self.weights) --> (80,10) * (10,) = (80,)\n",
        "\n",
        "for every sample we get 10 value (the 10 is because we have 10 features)\n",
        "\n",
        "and in the transposed case,\n",
        "\n",
        "np.dot(X.T, (y_predicted - y)) --> (10, 80) * (80,) = (10,)\n",
        "\n",
        "for every feature we get 10 values\n",
        "\n",
        "dw, db, self.bias -> returns scalar value\n",
        "\n",
        "y_pred, self.weights -> returns vector values\n"
      ]
    },
    {
      "cell_type": "code",
      "metadata": {
        "colab": {
          "base_uri": "https://localhost:8080/"
        },
        "id": "HY0iLU3K8BhJ",
        "outputId": "bb134a71-463e-4b0f-e817-a368f77a0a8a"
      },
      "source": [
        "model = LogisticRegression(learn_rate=0.001, num_iters=300)\n",
        "model.fit(X_train, y_train)                                       # used to train model and update w, b\n",
        "y_pred = model.predict(X_test)"
      ],
      "execution_count": 10,
      "outputs": [
        {
          "output_type": "stream",
          "text": [
            "epoch 1:\n",
            "Weights:  [-5.94437301e-05 -7.50855175e-05  1.04568331e-03  1.69413685e-05\n",
            " -7.52563322e-05  1.53158196e-04 -2.78169869e-04 -2.82983003e-04\n",
            "  6.09342506e-05 -6.17789530e-05]\n",
            "\n",
            "epoch 51:\n",
            "Weights:  [-0.00288904 -0.00378225  0.05193749  0.00091867 -0.00356084  0.00756776\n",
            " -0.01378754 -0.01397308  0.00302189 -0.00295373]\n",
            "\n",
            "epoch 101:\n",
            "Weights:  [-0.00545312 -0.00739909  0.1002118   0.0019203  -0.00653175  0.01452644\n",
            " -0.02654767 -0.0268019   0.00582094 -0.00547927]\n",
            "\n",
            "epoch 151:\n",
            "Weights:  [-0.00777342 -0.01092973  0.14604214  0.00301204 -0.00903339  0.02106101\n",
            " -0.03860939 -0.0388297   0.00846657 -0.00766871]\n",
            "\n",
            "epoch 201:\n",
            "Weights:  [-0.00987178 -0.01437917  0.18960389  0.00418525 -0.01111216  0.02720304\n",
            " -0.05002364 -0.05011762  0.01096648 -0.00955235]\n",
            "\n",
            "epoch 251:\n",
            "Weights:  [-0.01176943 -0.01775281  0.23106819  0.00543217 -0.01281325  0.03298295\n",
            " -0.06083987 -0.06072532  0.01332788 -0.01115949]\n",
            "\n"
          ],
          "name": "stdout"
        }
      ]
    },
    {
      "cell_type": "code",
      "metadata": {
        "colab": {
          "base_uri": "https://localhost:8080/"
        },
        "id": "lu2Od2V7Tzx4",
        "outputId": "a05d33b2-009e-40fb-aabc-518f90b985a6"
      },
      "source": [
        "y_pred[:5]"
      ],
      "execution_count": 11,
      "outputs": [
        {
          "output_type": "execute_result",
          "data": {
            "text/plain": [
              "[1, 0, 0, 1, 1]"
            ]
          },
          "metadata": {
            "tags": []
          },
          "execution_count": 11
        }
      ]
    },
    {
      "cell_type": "code",
      "metadata": {
        "colab": {
          "base_uri": "https://localhost:8080/"
        },
        "id": "werXml0TUCtO",
        "outputId": "901d8269-0283-4eb7-9450-4a6841764c0b"
      },
      "source": [
        "y_test[:5]"
      ],
      "execution_count": 12,
      "outputs": [
        {
          "output_type": "execute_result",
          "data": {
            "text/plain": [
              "array([1, 0, 0, 1, 1])"
            ]
          },
          "metadata": {
            "tags": []
          },
          "execution_count": 12
        }
      ]
    },
    {
      "cell_type": "markdown",
      "metadata": {
        "id": "8W0ZhKQm-2OO"
      },
      "source": [
        "## Evaluating test data"
      ]
    },
    {
      "cell_type": "code",
      "metadata": {
        "id": "vpT2nuPN-CWU"
      },
      "source": [
        "def accuracy(y_true, y_pred):\n",
        "    accuracy = np.sum(y_test == y_pred) / len(y_test)\n",
        "    return accuracy"
      ],
      "execution_count": 13,
      "outputs": []
    },
    {
      "cell_type": "code",
      "metadata": {
        "colab": {
          "base_uri": "https://localhost:8080/"
        },
        "id": "XrxXv3y_UGfP",
        "outputId": "b539d694-4eb8-42dd-98bb-508955cd672e"
      },
      "source": [
        "acc = accuracy(y_test, y_pred)\n",
        "print(\"Accuracy:\", acc*100)"
      ],
      "execution_count": 14,
      "outputs": [
        {
          "output_type": "stream",
          "text": [
            "Accuracy: 90.0\n"
          ],
          "name": "stdout"
        }
      ]
    }
  ]
}