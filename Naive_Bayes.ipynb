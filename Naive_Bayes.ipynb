{
  "nbformat": 4,
  "nbformat_minor": 0,
  "metadata": {
    "colab": {
      "name": "Naive Bayes.ipynb",
      "provenance": [],
      "collapsed_sections": []
    },
    "kernelspec": {
      "name": "python3",
      "display_name": "Python 3"
    },
    "language_info": {
      "name": "python"
    }
  },
  "cells": [
    {
      "cell_type": "code",
      "metadata": {
        "id": "PPV0ePsCWwmJ"
      },
      "source": [
        "# convert image links to colab image links\n",
        "\n",
        "def image_linker(link):\n",
        "\n",
        "    new_link = 'https://drive.google.com/uc?id='\n",
        "    new_link = new_link + link.split('/')[-2]\n",
        "    paste_link = '![](' + new_link + ')'\n",
        "    return paste_link"
      ],
      "execution_count": 1,
      "outputs": []
    },
    {
      "cell_type": "code",
      "metadata": {
        "colab": {
          "base_uri": "https://localhost:8080/",
          "height": 36
        },
        "id": "Oll6OfYXXDeg",
        "outputId": "a8783cea-f318-4a6a-d2f9-c36f8aae8aa5"
      },
      "source": [
        "image_linker('https://drive.google.com/file/d/1fuHA4l_WDy1RyVuWdLIoBMWQb8u3OBp6/view?usp=sharing')"
      ],
      "execution_count": 2,
      "outputs": [
        {
          "output_type": "execute_result",
          "data": {
            "application/vnd.google.colaboratory.intrinsic+json": {
              "type": "string"
            },
            "text/plain": [
              "'![](https://drive.google.com/uc?id=1fuHA4l_WDy1RyVuWdLIoBMWQb8u3OBp6)'"
            ]
          },
          "metadata": {
            "tags": []
          },
          "execution_count": 2
        }
      ]
    },
    {
      "cell_type": "markdown",
      "metadata": {
        "id": "2jWhia2PXRwk"
      },
      "source": [
        "![](https://drive.google.com/uc?id=1nIIH9fBeKBcwzv0zK3T436iJlu8LhUg7)"
      ]
    },
    {
      "cell_type": "markdown",
      "metadata": {
        "id": "TH_t9CrnXZdK"
      },
      "source": [
        "![](https://drive.google.com/uc?id=1fuHA4l_WDy1RyVuWdLIoBMWQb8u3OBp6)"
      ]
    },
    {
      "cell_type": "markdown",
      "metadata": {
        "id": "EPV83sdoXtbK"
      },
      "source": [
        "μ(k) be the mean for the random variable for each class y\n",
        "\n",
        "(σk)^2 be the variance for the variable for each class"
      ]
    },
    {
      "cell_type": "markdown",
      "metadata": {
        "id": "nP5mBDCaPvra"
      },
      "source": [
        "## Algorithm:\n",
        "\n",
        "Posterior = (Likelihood x Prior) / Marginal\n",
        "\n",
        "P(Y/X1,X2) = (P(X1/Y) x P(X2/Y) x P(Y)) / (P(X1) x P(X2))\n",
        "\n",
        "Likelihood is also called Class Conditional Probability => (P(Xi/Y))\n",
        "\n",
        "Prior probability of Y => P(Y)\n",
        "\n",
        "Marginal or Prior probability of Xi => P(Xi)\n",
        "\n",
        "- Take dataset and split into dependent and independent.\n",
        "\n",
        "- Initialize weights and bias to 0.\n",
        "\n",
        "- For each epoch, find ypred, ypred_prob, dw, db and update weight and bias.\n",
        "\n",
        "- Continue running epochs, until loss function becomes stagnant.\n",
        "\n",
        "- Predict values of test set and evaluate."
      ]
    },
    {
      "cell_type": "code",
      "metadata": {
        "id": "-wP578nzy-0R"
      },
      "source": [
        "import numpy as np\n",
        "from sklearn import datasets\n",
        "from sklearn.model_selection import train_test_split"
      ],
      "execution_count": 3,
      "outputs": []
    },
    {
      "cell_type": "markdown",
      "metadata": {
        "id": "Q4IoBw_j2PzZ"
      },
      "source": [
        "## Dataset"
      ]
    },
    {
      "cell_type": "code",
      "metadata": {
        "id": "1mwe2L3N0Hzw"
      },
      "source": [
        "X, y = datasets.make_classification(n_samples=100, n_features=10, n_classes=2, weights=[0.7,0.3], random_state=4)"
      ],
      "execution_count": 4,
      "outputs": []
    },
    {
      "cell_type": "code",
      "metadata": {
        "colab": {
          "base_uri": "https://localhost:8080/"
        },
        "id": "_hrOQTVx0N0R",
        "outputId": "debdc298-3a17-472e-f0c2-888ffb1dcab6"
      },
      "source": [
        "X.shape, y.shape"
      ],
      "execution_count": 5,
      "outputs": [
        {
          "output_type": "execute_result",
          "data": {
            "text/plain": [
              "((100, 10), (100,))"
            ]
          },
          "metadata": {
            "tags": []
          },
          "execution_count": 5
        }
      ]
    },
    {
      "cell_type": "code",
      "metadata": {
        "colab": {
          "base_uri": "https://localhost:8080/"
        },
        "id": "vclmCNt-U0xS",
        "outputId": "0afbea68-139c-47c3-d5b2-df0f7e8fefa6"
      },
      "source": [
        "values, counts = np.unique(y, return_counts=True)\n",
        "values, counts"
      ],
      "execution_count": 6,
      "outputs": [
        {
          "output_type": "execute_result",
          "data": {
            "text/plain": [
              "(array([0, 1]), array([70, 30]))"
            ]
          },
          "metadata": {
            "tags": []
          },
          "execution_count": 6
        }
      ]
    },
    {
      "cell_type": "code",
      "metadata": {
        "colab": {
          "base_uri": "https://localhost:8080/"
        },
        "id": "Vc6fsnvRVUee",
        "outputId": "5a14da93-e937-4532-dca2-38dfcd35ea53"
      },
      "source": [
        "np.unique(y)"
      ],
      "execution_count": 7,
      "outputs": [
        {
          "output_type": "execute_result",
          "data": {
            "text/plain": [
              "array([0, 1])"
            ]
          },
          "metadata": {
            "tags": []
          },
          "execution_count": 7
        }
      ]
    },
    {
      "cell_type": "code",
      "metadata": {
        "id": "F4TnPgQw0Ph2"
      },
      "source": [
        "X_train, X_test, y_train, y_test = train_test_split(X, y, test_size=0.2, random_state=10)"
      ],
      "execution_count": 8,
      "outputs": []
    },
    {
      "cell_type": "code",
      "metadata": {
        "colab": {
          "base_uri": "https://localhost:8080/"
        },
        "id": "7PK_fHbn16fe",
        "outputId": "6be9f2b7-3259-4880-c7d0-28c3e4664e51"
      },
      "source": [
        "X_train.shape, X_test.shape, y_train.shape, y_test.shape"
      ],
      "execution_count": 9,
      "outputs": [
        {
          "output_type": "execute_result",
          "data": {
            "text/plain": [
              "((80, 10), (20, 10), (80,), (20,))"
            ]
          },
          "metadata": {
            "tags": []
          },
          "execution_count": 9
        }
      ]
    },
    {
      "cell_type": "code",
      "metadata": {
        "colab": {
          "base_uri": "https://localhost:8080/"
        },
        "id": "n3scdbBz196A",
        "outputId": "da1b2da5-19dc-4074-b1c9-306864c8e3cb"
      },
      "source": [
        "X_train[:5]"
      ],
      "execution_count": 10,
      "outputs": [
        {
          "output_type": "execute_result",
          "data": {
            "text/plain": [
              "array([[-0.09634524,  1.19336851, -0.26937493, -0.95039892,  0.65746416,\n",
              "         0.4428871 , -0.2803352 , -0.92380733, -0.66305001, -0.03396529],\n",
              "       [-0.34125599,  1.86956552, -1.59134194, -0.90872536,  0.05705716,\n",
              "         0.21709507,  0.09480537,  0.13451712, -0.7442297 , -0.42976675],\n",
              "       [ 1.9378714 ,  0.097539  , -2.81196642, -1.08207078,  1.34742912,\n",
              "         0.11661226,  0.36237351,  0.60883722, -0.08073961,  1.4001608 ],\n",
              "       [-1.28142125, -0.1357363 , -0.35808244,  0.26518023,  0.07072032,\n",
              "        -0.19060895,  0.19608096,  1.00555752, -0.96253904,  1.43731603],\n",
              "       [ 0.5337351 ,  0.10614917, -2.31842819, -0.94614727, -0.10993324,\n",
              "         0.1236747 ,  0.27868214,  0.07382213, -0.55337285,  0.96185333]])"
            ]
          },
          "metadata": {
            "tags": []
          },
          "execution_count": 10
        }
      ]
    },
    {
      "cell_type": "code",
      "metadata": {
        "colab": {
          "base_uri": "https://localhost:8080/"
        },
        "id": "DrihWuMd2DpX",
        "outputId": "f574e1f5-1676-416b-c9b7-02d6b2b44a34"
      },
      "source": [
        "y_train[:5]"
      ],
      "execution_count": 11,
      "outputs": [
        {
          "output_type": "execute_result",
          "data": {
            "text/plain": [
              "array([0, 0, 0, 0, 0])"
            ]
          },
          "metadata": {
            "tags": []
          },
          "execution_count": 11
        }
      ]
    },
    {
      "cell_type": "markdown",
      "metadata": {
        "id": "KwI-WmK3-6mH"
      },
      "source": [
        "## Model building"
      ]
    },
    {
      "cell_type": "code",
      "metadata": {
        "id": "XCHHc45a8TNo"
      },
      "source": [
        "class NaiveBayes:\n",
        "\n",
        "    def fit(self, X, y):                                                # for training the model\n",
        "        n_samples, n_features = X.shape\n",
        "        self.classes = np.unique(y)                                     # gives unique elements of y\n",
        "        n_classes = len(self.classes)                                   # finds no of unique elements of y\n",
        "\n",
        "        self._mean = np.zeros((n_classes, n_features), dtype=np.float64)        # mean of the feature for the respective class\n",
        "        self._var = np.zeros((n_classes, n_features), dtype=np.float64)         # variance of the feature for the respective class\n",
        "        self._priors = np.zeros((n_classes), dtype=np.float64)                  # 1D vector with size of no of classes\n",
        "\n",
        "        for idx, each_class in enumerate(self.classes):\n",
        "            X_c = X[y == each_class]\n",
        "            self._mean[idx, :] = X_c.mean(axis=0)\n",
        "            self._var[idx, :] = X_c.var(axis=0)\n",
        "            self._priors[idx] = X_c.shape[0] / float(n_samples)\n",
        "\n",
        "    def predict(self, X):\n",
        "        y_pred = [self._predict(x) for x in X]                                  # calling _predict in list comprehension\n",
        "        return np.array(y_pred)\n",
        "\n",
        "    def _predict(self, x):                                                      # helper method\n",
        "        posteriors = []\n",
        "\n",
        "        # calculate posterior probability for each class\n",
        "        for idx, c in enumerate(self.classes):\n",
        "            prior = np.log(self._priors[idx])                                   # log(P(Y))\n",
        "            posterior = np.sum(np.log(self._pdf(idx, x)))                       # log(P(X1/Y)) + log(P(X2/Y)) + ....\n",
        "            combined = prior + posterior\n",
        "            posteriors.append(combined)\n",
        "\n",
        "        # return class with highest posterior probability\n",
        "        return self.classes[np.argmax(posteriors)]                              # argmax (log(P(X1/Y)) + log(P(X2/Y)) + .... + log(P(Y)))\n",
        "\n",
        "    def _pdf(self, class_idx, x):                                               # gaussian formula\n",
        "        mean = self._mean[class_idx]\n",
        "        var = self._var[class_idx]\n",
        "        numerator = np.exp(-((x - mean) ** 2) / (2 * var))\n",
        "        denominator = np.sqrt(2 * np.pi * var)\n",
        "        return numerator / denominator                                          # probability distribution equation"
      ],
      "execution_count": 12,
      "outputs": []
    },
    {
      "cell_type": "code",
      "metadata": {
        "id": "HY0iLU3K8BhJ"
      },
      "source": [
        "model = NaiveBayes()\n",
        "model.fit(X_train, y_train)                                       # used to train model\n",
        "y_pred = model.predict(X_test)"
      ],
      "execution_count": 13,
      "outputs": []
    },
    {
      "cell_type": "code",
      "metadata": {
        "colab": {
          "base_uri": "https://localhost:8080/"
        },
        "id": "lu2Od2V7Tzx4",
        "outputId": "58b4b725-d4bc-47c2-b011-be96bdbcb5c4"
      },
      "source": [
        "y_pred[:5]"
      ],
      "execution_count": 14,
      "outputs": [
        {
          "output_type": "execute_result",
          "data": {
            "text/plain": [
              "array([1, 0, 0, 1, 1])"
            ]
          },
          "metadata": {
            "tags": []
          },
          "execution_count": 14
        }
      ]
    },
    {
      "cell_type": "code",
      "metadata": {
        "colab": {
          "base_uri": "https://localhost:8080/"
        },
        "id": "werXml0TUCtO",
        "outputId": "3954fe99-ec72-4055-9dd1-970ab1c3740f"
      },
      "source": [
        "y_test[:5]"
      ],
      "execution_count": 15,
      "outputs": [
        {
          "output_type": "execute_result",
          "data": {
            "text/plain": [
              "array([1, 0, 0, 1, 1])"
            ]
          },
          "metadata": {
            "tags": []
          },
          "execution_count": 15
        }
      ]
    },
    {
      "cell_type": "markdown",
      "metadata": {
        "id": "8W0ZhKQm-2OO"
      },
      "source": [
        "## Evaluating test data"
      ]
    },
    {
      "cell_type": "code",
      "metadata": {
        "id": "vpT2nuPN-CWU"
      },
      "source": [
        "def accuracy(y_true, y_pred):\n",
        "    accuracy = np.sum(y_test == y_pred) / len(y_test)\n",
        "    return accuracy"
      ],
      "execution_count": 16,
      "outputs": []
    },
    {
      "cell_type": "code",
      "metadata": {
        "colab": {
          "base_uri": "https://localhost:8080/"
        },
        "id": "XrxXv3y_UGfP",
        "outputId": "0f976dfc-9f3b-4ced-dc2a-5f1eec709dfa"
      },
      "source": [
        "acc = accuracy(y_test, y_pred)\n",
        "print(\"Accuracy:\", acc*100)"
      ],
      "execution_count": 17,
      "outputs": [
        {
          "output_type": "stream",
          "text": [
            "Accuracy: 95.0\n"
          ],
          "name": "stdout"
        }
      ]
    }
  ]
}