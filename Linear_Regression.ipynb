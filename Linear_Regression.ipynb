{
  "nbformat": 4,
  "nbformat_minor": 0,
  "metadata": {
    "colab": {
      "name": "Linear Regression.ipynb",
      "provenance": []
    },
    "kernelspec": {
      "name": "python3",
      "display_name": "Python 3"
    },
    "language_info": {
      "name": "python"
    }
  },
  "cells": [
    {
      "cell_type": "markdown",
      "metadata": {
        "id": "xYx59lHjOu-V"
      },
      "source": [
        "## Algorithm:\n",
        "\n",
        "- Take dataset and split into dependent and independent.\n",
        "\n",
        "- Initialize weights and bias to 0.\n",
        "\n",
        "- For each epoch, find ypred, dw, db and update weight and bias.\n",
        "\n",
        "- Continue running epochs, until loss function becomes stagnant.\n",
        "\n",
        "- Predict values of test set and evaluate."
      ]
    },
    {
      "cell_type": "code",
      "metadata": {
        "id": "-wP578nzy-0R"
      },
      "source": [
        "import numpy as np\n",
        "from sklearn import datasets\n",
        "from sklearn.model_selection import train_test_split"
      ],
      "execution_count": 1,
      "outputs": []
    },
    {
      "cell_type": "markdown",
      "metadata": {
        "id": "Q4IoBw_j2PzZ"
      },
      "source": [
        "## Dataset"
      ]
    },
    {
      "cell_type": "code",
      "metadata": {
        "id": "1mwe2L3N0Hzw"
      },
      "source": [
        "X, y = datasets.make_regression(n_samples=100, n_features=2, noise=20, random_state=10)"
      ],
      "execution_count": 2,
      "outputs": []
    },
    {
      "cell_type": "code",
      "metadata": {
        "colab": {
          "base_uri": "https://localhost:8080/"
        },
        "id": "_hrOQTVx0N0R",
        "outputId": "909c66e0-7c4c-4a33-c14e-df3cfddfc99c"
      },
      "source": [
        "X.shape, y.shape"
      ],
      "execution_count": 3,
      "outputs": [
        {
          "output_type": "execute_result",
          "data": {
            "text/plain": [
              "((100, 2), (100,))"
            ]
          },
          "metadata": {
            "tags": []
          },
          "execution_count": 3
        }
      ]
    },
    {
      "cell_type": "code",
      "metadata": {
        "id": "F4TnPgQw0Ph2"
      },
      "source": [
        "X_train, X_test, y_train, y_test = train_test_split(X, y, test_size=0.2, random_state=10)"
      ],
      "execution_count": 4,
      "outputs": []
    },
    {
      "cell_type": "code",
      "metadata": {
        "colab": {
          "base_uri": "https://localhost:8080/"
        },
        "id": "7PK_fHbn16fe",
        "outputId": "b3ad0499-aae3-453e-80d6-dcdb26dc6200"
      },
      "source": [
        "X_train.shape, X_test.shape, y_train.shape, y_test.shape"
      ],
      "execution_count": 5,
      "outputs": [
        {
          "output_type": "execute_result",
          "data": {
            "text/plain": [
              "((80, 2), (20, 2), (80,), (20,))"
            ]
          },
          "metadata": {
            "tags": []
          },
          "execution_count": 5
        }
      ]
    },
    {
      "cell_type": "code",
      "metadata": {
        "colab": {
          "base_uri": "https://localhost:8080/"
        },
        "id": "n3scdbBz196A",
        "outputId": "6e067738-2e5e-4041-dfcb-9b5e90eafca9"
      },
      "source": [
        "X_train[:5]"
      ],
      "execution_count": 6,
      "outputs": [
        {
          "output_type": "execute_result",
          "data": {
            "text/plain": [
              "array([[-1.97772828, -1.7433723 ],\n",
              "       [ 0.94250041, -2.97959677],\n",
              "       [-0.28762941, -1.35931057],\n",
              "       [-0.70707145,  0.54666484],\n",
              "       [-0.33914025,  0.31216994]])"
            ]
          },
          "metadata": {
            "tags": []
          },
          "execution_count": 6
        }
      ]
    },
    {
      "cell_type": "code",
      "metadata": {
        "colab": {
          "base_uri": "https://localhost:8080/"
        },
        "id": "DrihWuMd2DpX",
        "outputId": "192f9042-c80d-4cfd-b2a3-32168999cee8"
      },
      "source": [
        "y_train[:5]"
      ],
      "execution_count": 7,
      "outputs": [
        {
          "output_type": "execute_result",
          "data": {
            "text/plain": [
              "array([-252.81242619,  -74.27309965, -100.72618959,  -55.69834737,\n",
              "         -5.54285386])"
            ]
          },
          "metadata": {
            "tags": []
          },
          "execution_count": 7
        }
      ]
    },
    {
      "cell_type": "markdown",
      "metadata": {
        "id": "KwI-WmK3-6mH"
      },
      "source": [
        "## Model building"
      ]
    },
    {
      "cell_type": "code",
      "metadata": {
        "id": "XCHHc45a8TNo"
      },
      "source": [
        "class LinearRegression:\n",
        "    def __init__(self, learn_rate, num_iters):\n",
        "        self.weights = None\n",
        "        self.bias = None\n",
        "        self.learn_rate = learn_rate\n",
        "        self.num_iters = num_iters\n",
        "    \n",
        "    def fit(self, X, y):                                          # for training the model\n",
        "        samples, features = X.shape\n",
        "        self.weights = np.zeros(features)                         # initialising weights as 0 for all features\n",
        "        self.bias = 0                                             # initialising with bias as 0\n",
        "\n",
        "        for epoch in range(self.num_iters):\n",
        "            y_pred = np.dot(X, self.weights) + self.bias          # ypred = b + wX\n",
        "            loss = ((y_pred-y)**2).mean()                         # MSE: Loss = 1/N * ((w*X+b) - y)**2\n",
        "            dw = (1 / samples) * 2 * np.dot(X.T, (y_pred - y))    # dLoss/dw = 1/N * 2X(w*X+b - y)\n",
        "            db = (1 / samples) * 2 * np.sum(y_pred - y)           # dLoss/db = 1/N * 2(w*X+b - y)\n",
        "            self.weights = self.weights - (self.learn_rate*dw)    # update weight\n",
        "            self.bias = self.bias - (self.learn_rate*db)          # update bias\n",
        "\n",
        "            if (epoch%30==0):                                     # just to print loss and weights after some epochs\n",
        "              print(f'epoch {epoch+1}: weights = [{self.weights[0]:.4f}, {self.weights[1]:.4f}], loss = {loss:.4f}')\n",
        "\n",
        "    def predict(self, X):                                         # for prediction\n",
        "        y_pred = np.dot(X, self.weights) + self.bias\n",
        "        return y_pred"
      ],
      "execution_count": 8,
      "outputs": []
    },
    {
      "cell_type": "markdown",
      "metadata": {
        "id": "obUPhcFwtu52"
      },
      "source": [
        "**Logic behind dot products**\n",
        "\n",
        "np.dot(X, self.weights) --> (80,2) * (2,) = (80,)\n",
        "\n",
        "for every sample we get 2 value (the 2 is because we have 2 features)\n",
        "\n",
        "and in the transposed case,\n",
        "\n",
        "np.dot(X.T, (y_predicted - y)) --> (2, 80) * (80,) = (2,)\n",
        "\n",
        "for every feature we get 2 values"
      ]
    },
    {
      "cell_type": "code",
      "metadata": {
        "colab": {
          "base_uri": "https://localhost:8080/"
        },
        "id": "HY0iLU3K8BhJ",
        "outputId": "b8495dd3-71f9-4f73-9779-947da2207516"
      },
      "source": [
        "model = LinearRegression(learn_rate=0.01, num_iters=300)\n",
        "model.fit(X_train, y_train)                                       # used to train model and update w, b\n",
        "y_pred = model.predict(X_test)"
      ],
      "execution_count": 9,
      "outputs": [
        {
          "output_type": "stream",
          "text": [
            "epoch 1: weights = [1.4859, 1.3780], loss = 10044.6078\n",
            "epoch 31: weights = [35.0238, 30.1344], loss = 3067.7479\n",
            "epoch 61: weights = [54.0888, 43.5090], loss = 1136.5925\n",
            "epoch 91: weights = [65.1520, 49.4784], loss = 576.6096\n",
            "epoch 121: weights = [71.7090, 51.9566], loss = 403.2974\n",
            "epoch 151: weights = [75.6773, 52.8418], loss = 345.1643\n",
            "epoch 181: weights = [78.1267, 53.0390], loss = 323.9311\n",
            "epoch 211: weights = [79.6660, 52.9680], loss = 315.5575\n",
            "epoch 241: weights = [80.6489, 52.8159], loss = 312.0525\n",
            "epoch 271: weights = [81.2849, 52.6598], loss = 310.5238\n"
          ],
          "name": "stdout"
        }
      ]
    },
    {
      "cell_type": "code",
      "metadata": {
        "colab": {
          "base_uri": "https://localhost:8080/"
        },
        "id": "lu2Od2V7Tzx4",
        "outputId": "8aeb9dcd-353a-4dde-82ed-6c49d7082888"
      },
      "source": [
        "y_pred[:5]"
      ],
      "execution_count": 10,
      "outputs": [
        {
          "output_type": "execute_result",
          "data": {
            "text/plain": [
              "array([ 172.38612066,  148.3156678 ,   57.51809851,   67.26374421,\n",
              "       -161.36987961])"
            ]
          },
          "metadata": {
            "tags": []
          },
          "execution_count": 10
        }
      ]
    },
    {
      "cell_type": "code",
      "metadata": {
        "colab": {
          "base_uri": "https://localhost:8080/"
        },
        "id": "werXml0TUCtO",
        "outputId": "94089c19-6c4c-480c-9606-dfbabec5ff04"
      },
      "source": [
        "y_test[:5]"
      ],
      "execution_count": 11,
      "outputs": [
        {
          "output_type": "execute_result",
          "data": {
            "text/plain": [
              "array([ 164.1826212 ,  130.46580874,   62.77042267,   85.39016543,\n",
              "       -200.94244523])"
            ]
          },
          "metadata": {
            "tags": []
          },
          "execution_count": 11
        }
      ]
    },
    {
      "cell_type": "markdown",
      "metadata": {
        "id": "8W0ZhKQm-2OO"
      },
      "source": [
        "## Evaluating test data"
      ]
    },
    {
      "cell_type": "code",
      "metadata": {
        "id": "vpT2nuPN-CWU"
      },
      "source": [
        "def loss(Yhat, Y):\n",
        "  return ((y_pred-y_test)**2).mean()\n",
        "\n",
        "def r2_score(y_test, y_pred):\n",
        "    corr_matrix = np.corrcoef(y_test, y_pred)\n",
        "    corr = corr_matrix[0, 1]\n",
        "    return corr ** 2"
      ],
      "execution_count": 12,
      "outputs": []
    },
    {
      "cell_type": "code",
      "metadata": {
        "colab": {
          "base_uri": "https://localhost:8080/"
        },
        "id": "XrxXv3y_UGfP",
        "outputId": "6c926e93-0ae1-40f6-d794-c2400bfad961"
      },
      "source": [
        "mse = loss(y_test, y_pred)\n",
        "print(\"MSE:\", mse)"
      ],
      "execution_count": 13,
      "outputs": [
        {
          "output_type": "stream",
          "text": [
            "MSE: 459.5370240526915\n"
          ],
          "name": "stdout"
        }
      ]
    },
    {
      "cell_type": "code",
      "metadata": {
        "colab": {
          "base_uri": "https://localhost:8080/"
        },
        "id": "WY54ITm2Ug-f",
        "outputId": "52d35a4f-8d0d-4dde-81b4-6b75f2117b1b"
      },
      "source": [
        "accu = r2_score(y_test, y_pred)\n",
        "print(\"Accuracy:\", accu)"
      ],
      "execution_count": 14,
      "outputs": [
        {
          "output_type": "stream",
          "text": [
            "Accuracy: 0.9780020502895262\n"
          ],
          "name": "stdout"
        }
      ]
    }
  ]
}