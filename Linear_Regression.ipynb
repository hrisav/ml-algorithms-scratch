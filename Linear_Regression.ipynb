{
  "nbformat": 4,
  "nbformat_minor": 0,
  "metadata": {
    "colab": {
      "name": "Linear Regression.ipynb",
      "provenance": []
    },
    "kernelspec": {
      "name": "python3",
      "display_name": "Python 3"
    },
    "language_info": {
      "name": "python"
    }
  },
  "cells": [
    {
      "cell_type": "code",
      "metadata": {
        "id": "-wP578nzy-0R"
      },
      "source": [
        "import numpy as np\n",
        "from sklearn import datasets\n",
        "from sklearn.model_selection import train_test_split\n",
        "import matplotlib.pyplot as plt"
      ],
      "execution_count": 1,
      "outputs": []
    },
    {
      "cell_type": "markdown",
      "metadata": {
        "id": "Q4IoBw_j2PzZ"
      },
      "source": [
        "## Dataset"
      ]
    },
    {
      "cell_type": "code",
      "metadata": {
        "id": "1mwe2L3N0Hzw"
      },
      "source": [
        "X, y = datasets.make_regression(n_samples=100, n_features=1, noise=20, random_state=10)"
      ],
      "execution_count": 2,
      "outputs": []
    },
    {
      "cell_type": "code",
      "metadata": {
        "colab": {
          "base_uri": "https://localhost:8080/"
        },
        "id": "_hrOQTVx0N0R",
        "outputId": "3f068966-5019-4524-91aa-1822c1dfe38d"
      },
      "source": [
        "X.shape, y.shape"
      ],
      "execution_count": 3,
      "outputs": [
        {
          "output_type": "execute_result",
          "data": {
            "text/plain": [
              "((100, 1), (100,))"
            ]
          },
          "metadata": {
            "tags": []
          },
          "execution_count": 3
        }
      ]
    },
    {
      "cell_type": "code",
      "metadata": {
        "id": "F4TnPgQw0Ph2"
      },
      "source": [
        "X_train, X_test, y_train, y_test = train_test_split(X, y, test_size=0.2, random_state=10)"
      ],
      "execution_count": 4,
      "outputs": []
    },
    {
      "cell_type": "code",
      "metadata": {
        "colab": {
          "base_uri": "https://localhost:8080/"
        },
        "id": "7PK_fHbn16fe",
        "outputId": "1fca2d4f-e042-436b-b230-306e49d4f808"
      },
      "source": [
        "X_train.shape, X_test.shape, y_train.shape, y_test.shape"
      ],
      "execution_count": 5,
      "outputs": [
        {
          "output_type": "execute_result",
          "data": {
            "text/plain": [
              "((80, 1), (20, 1), (80,), (20,))"
            ]
          },
          "metadata": {
            "tags": []
          },
          "execution_count": 5
        }
      ]
    },
    {
      "cell_type": "code",
      "metadata": {
        "colab": {
          "base_uri": "https://localhost:8080/"
        },
        "id": "n3scdbBz196A",
        "outputId": "0d84333b-5a59-4178-9c7c-02e69622a208"
      },
      "source": [
        "X_train[:5]"
      ],
      "execution_count": 6,
      "outputs": [
        {
          "output_type": "execute_result",
          "data": {
            "text/plain": [
              "array([[ 2.46765106],\n",
              "       [ 0.44513761],\n",
              "       [ 0.39334122],\n",
              "       [ 0.22863013],\n",
              "       [-0.96506567]])"
            ]
          },
          "metadata": {
            "tags": []
          },
          "execution_count": 6
        }
      ]
    },
    {
      "cell_type": "code",
      "metadata": {
        "colab": {
          "base_uri": "https://localhost:8080/"
        },
        "id": "DrihWuMd2DpX",
        "outputId": "1a9d4b0d-5e37-4509-c9b5-f9acfd25cc94"
      },
      "source": [
        "y_train[:5]"
      ],
      "execution_count": 7,
      "outputs": [
        {
          "output_type": "execute_result",
          "data": {
            "text/plain": [
              "array([100.37625239,  18.06414221,   8.13026063, -23.57009345,\n",
              "       -18.86542549])"
            ]
          },
          "metadata": {
            "tags": []
          },
          "execution_count": 7
        }
      ]
    },
    {
      "cell_type": "markdown",
      "metadata": {
        "id": "KwI-WmK3-6mH"
      },
      "source": [
        "## Model building"
      ]
    },
    {
      "cell_type": "code",
      "metadata": {
        "id": "XCHHc45a8TNo"
      },
      "source": [
        "class LinearRegression:\n",
        "    def __init__(self, learn_rate, num_iters):\n",
        "        self.weights = None\n",
        "        self.bias = None\n",
        "        self.learn_rate = learn_rate\n",
        "        self.num_iters = num_iters\n",
        "    \n",
        "    def fit(self, X, y):                                          # for training the model\n",
        "        samples, features = X.shape\n",
        "        self.weights = np.zeros(features)                         # initialising weights as 0 for all features\n",
        "        self.bias = 0                                             # initialising with bias as 0\n",
        "\n",
        "        for epoch in range(self.num_iters):\n",
        "            y_pred = np.dot(X, self.weights) + self.bias          # ypred = b + wX\n",
        "            loss = ((y_pred-y)**2).mean()                         # MSE: Loss = 1/N * ((w*X+b) - y)**2\n",
        "            dw = (1 / samples) * 2 * np.dot(X.T, (y_pred - y))    # dLoss/dw = 1/N * 2X(w*X+b - y)\n",
        "            db = (1 / samples) * 2 * np.sum(y_pred - y)           # dLoss/db = 1/N * 2(w*X+b - y)\n",
        "            self.weights = self.weights - (self.learn_rate*dw)    # update weight\n",
        "            self.bias = self.bias - (self.learn_rate*db)          # update bias\n",
        "\n",
        "            if (epoch%30==0):                                     # just to print loss and weights after some epochs\n",
        "              print(f'epoch {epoch+1}: weight = {self.weights[0]:.5f}, loss = {loss:.5f}')\n",
        "\n",
        "    def predict(self, X):                                         # for prediction\n",
        "        y_pred = np.dot(X, self.weights) + self.bias\n",
        "        return y_pred"
      ],
      "execution_count": 8,
      "outputs": []
    },
    {
      "cell_type": "markdown",
      "metadata": {
        "id": "obUPhcFwtu52"
      },
      "source": [
        "**Logic behind dot products**\n",
        "\n",
        "np.dot(X, self.weights) --> (80,1) * (1,) = (80,)\n",
        "\n",
        "for every sample we get 1 value (the 1 is because we have 1 feature)\n",
        "\n",
        "and in the transposed case,\n",
        "\n",
        "np.dot(X.T, (y_predicted - y)) --> (1, 80) * (80,) = (1,)\n",
        "\n",
        "for every feature we get one value"
      ]
    },
    {
      "cell_type": "code",
      "metadata": {
        "colab": {
          "base_uri": "https://localhost:8080/"
        },
        "id": "HY0iLU3K8BhJ",
        "outputId": "f6c26a17-4cfa-45a6-9f29-da3ef39b1975"
      },
      "source": [
        "model = LinearRegression(learn_rate=0.01, num_iters=300)\n",
        "model.fit(X_train, y_train)                                       # used to train model and update w, b\n",
        "y_pred = model.predict(X_test)"
      ],
      "execution_count": 9,
      "outputs": [
        {
          "output_type": "stream",
          "text": [
            "epoch 1: weight = 0.60030, loss = 1287.73851\n",
            "epoch 31: weight = 14.05484, loss = 646.37925\n",
            "epoch 61: weight = 21.49845, loss = 450.51270\n",
            "epoch 91: weight = 25.61988, loss = 390.50173\n",
            "epoch 121: weight = 27.90367, loss = 372.05698\n",
            "epoch 151: weight = 29.17016, loss = 366.37054\n",
            "epoch 181: weight = 29.87303, loss = 364.61229\n",
            "epoch 211: weight = 30.26341, loss = 364.06711\n",
            "epoch 241: weight = 30.48038, loss = 363.89763\n",
            "epoch 271: weight = 30.60107, loss = 363.84480\n"
          ],
          "name": "stdout"
        }
      ]
    },
    {
      "cell_type": "code",
      "metadata": {
        "colab": {
          "base_uri": "https://localhost:8080/"
        },
        "id": "lu2Od2V7Tzx4",
        "outputId": "5b0fb693-720c-4783-8f7b-777757b29ceb"
      },
      "source": [
        "y_pred[:5]"
      ],
      "execution_count": 10,
      "outputs": [
        {
          "output_type": "execute_result",
          "data": {
            "text/plain": [
              "array([ 34.94644774, -20.91275509,  -2.95632455, -21.96030903,\n",
              "        19.51838322])"
            ]
          },
          "metadata": {
            "tags": []
          },
          "execution_count": 10
        }
      ]
    },
    {
      "cell_type": "code",
      "metadata": {
        "colab": {
          "base_uri": "https://localhost:8080/"
        },
        "id": "werXml0TUCtO",
        "outputId": "e4f8e8e9-c30f-473e-dd6a-8c1e3e5f5386"
      },
      "source": [
        "y_test[:5]"
      ],
      "execution_count": 11,
      "outputs": [
        {
          "output_type": "execute_result",
          "data": {
            "text/plain": [
              "array([ 39.61740454, -25.09278505,  -9.7545266 , -14.21925208,\n",
              "        38.33108551])"
            ]
          },
          "metadata": {
            "tags": []
          },
          "execution_count": 11
        }
      ]
    },
    {
      "cell_type": "markdown",
      "metadata": {
        "id": "8W0ZhKQm-2OO"
      },
      "source": [
        "## Evaluating test data"
      ]
    },
    {
      "cell_type": "code",
      "metadata": {
        "id": "vpT2nuPN-CWU"
      },
      "source": [
        "def loss(Yhat, Y):\n",
        "  return ((y_pred-y_test)**2).mean()\n",
        "\n",
        "def r2_score(y_test, y_pred):\n",
        "    corr_matrix = np.corrcoef(y_test, y_pred)\n",
        "    corr = corr_matrix[0, 1]\n",
        "    return corr ** 2"
      ],
      "execution_count": 12,
      "outputs": []
    },
    {
      "cell_type": "code",
      "metadata": {
        "colab": {
          "base_uri": "https://localhost:8080/"
        },
        "id": "XrxXv3y_UGfP",
        "outputId": "6e72fa6d-417e-4cd9-fe0a-9b3da8d0361b"
      },
      "source": [
        "mse = loss(y_test, y_pred)\n",
        "print(\"MSE:\", mse)"
      ],
      "execution_count": 13,
      "outputs": [
        {
          "output_type": "stream",
          "text": [
            "MSE: 270.9181916072149\n"
          ],
          "name": "stdout"
        }
      ]
    },
    {
      "cell_type": "code",
      "metadata": {
        "colab": {
          "base_uri": "https://localhost:8080/"
        },
        "id": "WY54ITm2Ug-f",
        "outputId": "175eca7d-d6b1-4ea1-f180-c8f8810fafc1"
      },
      "source": [
        "accu = r2_score(y_test, y_pred)\n",
        "print(\"Accuracy:\", accu)"
      ],
      "execution_count": 14,
      "outputs": [
        {
          "output_type": "stream",
          "text": [
            "Accuracy: 0.7747921568080172\n"
          ],
          "name": "stdout"
        }
      ]
    }
  ]
}